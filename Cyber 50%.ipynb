{
 "cells": [
  {
   "cell_type": "code",
   "execution_count": 1,
   "id": "d730353a",
   "metadata": {},
   "outputs": [],
   "source": [
    "import numpy as np\n",
    "import pandas as pd\n",
    "from sklearn.model_selection import train_test_split\n",
    "from sklearn.metrics import accuracy_score"
   ]
  },
  {
   "cell_type": "code",
   "execution_count": 2,
   "id": "2f281e23",
   "metadata": {},
   "outputs": [],
   "source": [
    "# !pip install sklearn_relief"
   ]
  },
  {
   "cell_type": "code",
   "execution_count": 3,
   "id": "61df5ede",
   "metadata": {},
   "outputs": [],
   "source": [
    "df = pd.read_csv(r'cyber121.csv')"
   ]
  },
  {
   "cell_type": "code",
   "execution_count": 4,
   "id": "f050ac9e",
   "metadata": {},
   "outputs": [
    {
     "data": {
      "text/html": [
       "<div>\n",
       "<style scoped>\n",
       "    .dataframe tbody tr th:only-of-type {\n",
       "        vertical-align: middle;\n",
       "    }\n",
       "\n",
       "    .dataframe tbody tr th {\n",
       "        vertical-align: top;\n",
       "    }\n",
       "\n",
       "    .dataframe thead th {\n",
       "        text-align: right;\n",
       "    }\n",
       "</style>\n",
       "<table border=\"1\" class=\"dataframe\">\n",
       "  <thead>\n",
       "    <tr style=\"text-align: right;\">\n",
       "      <th></th>\n",
       "      <th>IsBeta</th>\n",
       "      <th>RtpStateBitfield</th>\n",
       "      <th>IsSxsPassiveMode</th>\n",
       "      <th>DefaultBrowsersIdentifier</th>\n",
       "      <th>AVProductStatesIdentifier</th>\n",
       "      <th>AVProductsInstalled</th>\n",
       "      <th>HasTpm</th>\n",
       "      <th>CountryIdentifier</th>\n",
       "      <th>CityIdentifier</th>\n",
       "      <th>OrganizationIdentifier</th>\n",
       "      <th>...</th>\n",
       "      <th>Firewall</th>\n",
       "      <th>Census_InternalPrimaryDiagonalDisplaySizeInInches</th>\n",
       "      <th>Census_InternalPrimaryDisplayResolutionHorizontal</th>\n",
       "      <th>Census_InternalPrimaryDisplayResolutionVertical</th>\n",
       "      <th>Census_OSBuildNumber</th>\n",
       "      <th>Census_OSBuildRevision</th>\n",
       "      <th>Census_OSInstallLanguageIdentifier</th>\n",
       "      <th>Wdft_IsGamer</th>\n",
       "      <th>Wdft_RegionIdentifier</th>\n",
       "      <th>HasDetections</th>\n",
       "    </tr>\n",
       "  </thead>\n",
       "  <tbody>\n",
       "    <tr>\n",
       "      <th>0</th>\n",
       "      <td>98503</td>\n",
       "      <td>173902</td>\n",
       "      <td>53447</td>\n",
       "      <td>102888</td>\n",
       "      <td>37194</td>\n",
       "      <td>8192</td>\n",
       "      <td>17134</td>\n",
       "      <td>17134</td>\n",
       "      <td>2543</td>\n",
       "      <td>165</td>\n",
       "      <td>...</td>\n",
       "      <td>768</td>\n",
       "      <td>628</td>\n",
       "      <td>75</td>\n",
       "      <td>31</td>\n",
       "      <td>137</td>\n",
       "      <td>8</td>\n",
       "      <td>1</td>\n",
       "      <td>27</td>\n",
       "      <td>12.5</td>\n",
       "      <td>0</td>\n",
       "    </tr>\n",
       "    <tr>\n",
       "      <th>1</th>\n",
       "      <td>1400</td>\n",
       "      <td>456924</td>\n",
       "      <td>53447</td>\n",
       "      <td>186069</td>\n",
       "      <td>64721</td>\n",
       "      <td>2048</td>\n",
       "      <td>16299</td>\n",
       "      <td>16299</td>\n",
       "      <td>2042</td>\n",
       "      <td>492</td>\n",
       "      <td>...</td>\n",
       "      <td>768</td>\n",
       "      <td>127</td>\n",
       "      <td>227</td>\n",
       "      <td>34</td>\n",
       "      <td>117</td>\n",
       "      <td>9</td>\n",
       "      <td>10</td>\n",
       "      <td>27</td>\n",
       "      <td>11.6</td>\n",
       "      <td>0</td>\n",
       "    </tr>\n",
       "    <tr>\n",
       "      <th>2</th>\n",
       "      <td>44488</td>\n",
       "      <td>29144</td>\n",
       "      <td>53447</td>\n",
       "      <td>317708</td>\n",
       "      <td>12536</td>\n",
       "      <td>2048</td>\n",
       "      <td>10586</td>\n",
       "      <td>10586</td>\n",
       "      <td>1848</td>\n",
       "      <td>1176</td>\n",
       "      <td>...</td>\n",
       "      <td>1080</td>\n",
       "      <td>142</td>\n",
       "      <td>233</td>\n",
       "      <td>31</td>\n",
       "      <td>74</td>\n",
       "      <td>8</td>\n",
       "      <td>15</td>\n",
       "      <td>18</td>\n",
       "      <td>23.0</td>\n",
       "      <td>0</td>\n",
       "    </tr>\n",
       "    <tr>\n",
       "      <th>3</th>\n",
       "      <td>129332</td>\n",
       "      <td>121027</td>\n",
       "      <td>53447</td>\n",
       "      <td>313374</td>\n",
       "      <td>38396</td>\n",
       "      <td>16384</td>\n",
       "      <td>17134</td>\n",
       "      <td>17134</td>\n",
       "      <td>3125</td>\n",
       "      <td>191</td>\n",
       "      <td>...</td>\n",
       "      <td>1080</td>\n",
       "      <td>142</td>\n",
       "      <td>223</td>\n",
       "      <td>34</td>\n",
       "      <td>137</td>\n",
       "      <td>9</td>\n",
       "      <td>10</td>\n",
       "      <td>27</td>\n",
       "      <td>17.2</td>\n",
       "      <td>0</td>\n",
       "    </tr>\n",
       "    <tr>\n",
       "      <th>4</th>\n",
       "      <td>18964</td>\n",
       "      <td>474552</td>\n",
       "      <td>43927</td>\n",
       "      <td>126133</td>\n",
       "      <td>39065</td>\n",
       "      <td>4096</td>\n",
       "      <td>17134</td>\n",
       "      <td>17134</td>\n",
       "      <td>3427</td>\n",
       "      <td>165</td>\n",
       "      <td>...</td>\n",
       "      <td>768</td>\n",
       "      <td>628</td>\n",
       "      <td>210</td>\n",
       "      <td>128</td>\n",
       "      <td>137</td>\n",
       "      <td>30</td>\n",
       "      <td>3</td>\n",
       "      <td>27</td>\n",
       "      <td>15.5</td>\n",
       "      <td>0</td>\n",
       "    </tr>\n",
       "  </tbody>\n",
       "</table>\n",
       "<p>5 rows × 26 columns</p>\n",
       "</div>"
      ],
      "text/plain": [
       "   IsBeta  RtpStateBitfield  IsSxsPassiveMode  DefaultBrowsersIdentifier  \\\n",
       "0   98503            173902             53447                     102888   \n",
       "1    1400            456924             53447                     186069   \n",
       "2   44488             29144             53447                     317708   \n",
       "3  129332            121027             53447                     313374   \n",
       "4   18964            474552             43927                     126133   \n",
       "\n",
       "   AVProductStatesIdentifier  AVProductsInstalled  HasTpm  CountryIdentifier  \\\n",
       "0                      37194                 8192   17134              17134   \n",
       "1                      64721                 2048   16299              16299   \n",
       "2                      12536                 2048   10586              10586   \n",
       "3                      38396                16384   17134              17134   \n",
       "4                      39065                 4096   17134              17134   \n",
       "\n",
       "   CityIdentifier  OrganizationIdentifier  ...  Firewall  \\\n",
       "0            2543                     165  ...       768   \n",
       "1            2042                     492  ...       768   \n",
       "2            1848                    1176  ...      1080   \n",
       "3            3125                     191  ...      1080   \n",
       "4            3427                     165  ...       768   \n",
       "\n",
       "   Census_InternalPrimaryDiagonalDisplaySizeInInches  \\\n",
       "0                                                628   \n",
       "1                                                127   \n",
       "2                                                142   \n",
       "3                                                142   \n",
       "4                                                628   \n",
       "\n",
       "   Census_InternalPrimaryDisplayResolutionHorizontal  \\\n",
       "0                                                 75   \n",
       "1                                                227   \n",
       "2                                                233   \n",
       "3                                                223   \n",
       "4                                                210   \n",
       "\n",
       "   Census_InternalPrimaryDisplayResolutionVertical  Census_OSBuildNumber  \\\n",
       "0                                               31                   137   \n",
       "1                                               34                   117   \n",
       "2                                               31                    74   \n",
       "3                                               34                   137   \n",
       "4                                              128                   137   \n",
       "\n",
       "   Census_OSBuildRevision  Census_OSInstallLanguageIdentifier  Wdft_IsGamer  \\\n",
       "0                       8                                   1            27   \n",
       "1                       9                                  10            27   \n",
       "2                       8                                  15            18   \n",
       "3                       9                                  10            27   \n",
       "4                      30                                   3            27   \n",
       "\n",
       "   Wdft_RegionIdentifier  HasDetections   \n",
       "0                   12.5               0  \n",
       "1                   11.6               0  \n",
       "2                   23.0               0  \n",
       "3                   17.2               0  \n",
       "4                   15.5               0  \n",
       "\n",
       "[5 rows x 26 columns]"
      ]
     },
     "execution_count": 4,
     "metadata": {},
     "output_type": "execute_result"
    }
   ],
   "source": [
    "df.head()"
   ]
  },
  {
   "cell_type": "code",
   "execution_count": 5,
   "id": "3e2e1240",
   "metadata": {},
   "outputs": [
    {
     "data": {
      "text/plain": [
       "(702545, 26)"
      ]
     },
     "execution_count": 5,
     "metadata": {},
     "output_type": "execute_result"
    }
   ],
   "source": [
    "df.shape"
   ]
  },
  {
   "cell_type": "code",
   "execution_count": 6,
   "id": "ae25c0e7",
   "metadata": {},
   "outputs": [
    {
     "data": {
      "text/plain": [
       "IsBeta                                               0\n",
       "RtpStateBitfield                                     0\n",
       "IsSxsPassiveMode                                     0\n",
       "DefaultBrowsersIdentifier                            0\n",
       "AVProductStatesIdentifier                            0\n",
       "AVProductsInstalled                                  0\n",
       "HasTpm                                               0\n",
       "CountryIdentifier                                    0\n",
       "CityIdentifier                                       0\n",
       "OrganizationIdentifier                               0\n",
       "GeoNameIdentifier                                    0\n",
       "LocaleEnglishNameIdentifier                          0\n",
       "OsBuild                                              0\n",
       "OsSuite                                              0\n",
       "IsProtected                                          0\n",
       "SMode                                                0\n",
       "Firewall                                             0\n",
       "Census_InternalPrimaryDiagonalDisplaySizeInInches    0\n",
       "Census_InternalPrimaryDisplayResolutionHorizontal    0\n",
       "Census_InternalPrimaryDisplayResolutionVertical      0\n",
       "Census_OSBuildNumber                                 0\n",
       "Census_OSBuildRevision                               0\n",
       "Census_OSInstallLanguageIdentifier                   0\n",
       "Wdft_IsGamer                                         0\n",
       "Wdft_RegionIdentifier                                0\n",
       "HasDetections                                        0\n",
       "dtype: int64"
      ]
     },
     "execution_count": 6,
     "metadata": {},
     "output_type": "execute_result"
    }
   ],
   "source": [
    "df.isnull().sum()"
   ]
  },
  {
   "cell_type": "code",
   "execution_count": 7,
   "id": "32b07ca4",
   "metadata": {},
   "outputs": [],
   "source": [
    "df.RtpStateBitfield.fillna(value=df.RtpStateBitfield.mode()[0],inplace=True)"
   ]
  },
  {
   "cell_type": "code",
   "execution_count": 8,
   "id": "407596f6",
   "metadata": {},
   "outputs": [],
   "source": [
    "df.DefaultBrowsersIdentifier.fillna(value=df.DefaultBrowsersIdentifier.mode()[0],inplace=True)"
   ]
  },
  {
   "cell_type": "code",
   "execution_count": 9,
   "id": "13e08d3f",
   "metadata": {},
   "outputs": [],
   "source": [
    "df.AVProductStatesIdentifier.fillna(value=df.AVProductStatesIdentifier.mode()[0],inplace=True)"
   ]
  },
  {
   "cell_type": "code",
   "execution_count": 10,
   "id": "8f365ebb",
   "metadata": {},
   "outputs": [],
   "source": [
    "df.AVProductsInstalled.fillna(value=df.AVProductsInstalled.mode()[0],inplace=True)"
   ]
  },
  {
   "cell_type": "code",
   "execution_count": 11,
   "id": "b355ac02",
   "metadata": {},
   "outputs": [],
   "source": [
    "df.CityIdentifier.fillna(value=df.CityIdentifier.mode()[0],inplace=True)"
   ]
  },
  {
   "cell_type": "code",
   "execution_count": 12,
   "id": "193bc8ea",
   "metadata": {},
   "outputs": [],
   "source": [
    "df.OrganizationIdentifier.fillna(value=df.OrganizationIdentifier.mode()[0],inplace=True)"
   ]
  },
  {
   "cell_type": "code",
   "execution_count": 13,
   "id": "66d159b6",
   "metadata": {},
   "outputs": [],
   "source": [
    "df.GeoNameIdentifier.fillna(value=df.GeoNameIdentifier.mode()[0],inplace=True)"
   ]
  },
  {
   "cell_type": "code",
   "execution_count": 14,
   "id": "7a49a826",
   "metadata": {},
   "outputs": [],
   "source": [
    "df.IsProtected.fillna(value=df.IsProtected.mode()[0],inplace=True)"
   ]
  },
  {
   "cell_type": "code",
   "execution_count": 15,
   "id": "5b5c1548",
   "metadata": {},
   "outputs": [],
   "source": [
    "df.SMode.fillna(value=df.SMode.mode()[0],inplace=True)"
   ]
  },
  {
   "cell_type": "code",
   "execution_count": 16,
   "id": "0fbcb253",
   "metadata": {},
   "outputs": [],
   "source": [
    "df.Firewall.fillna(value=df.Firewall.mode()[0],inplace=True)"
   ]
  },
  {
   "cell_type": "code",
   "execution_count": 17,
   "id": "cf8cb936",
   "metadata": {},
   "outputs": [],
   "source": [
    "df.Census_InternalPrimaryDiagonalDisplaySizeInInches.fillna(value=df.Census_InternalPrimaryDiagonalDisplaySizeInInches.mode()[0],inplace=True)"
   ]
  },
  {
   "cell_type": "code",
   "execution_count": 18,
   "id": "a82bc1bd",
   "metadata": {},
   "outputs": [],
   "source": [
    "df.Census_InternalPrimaryDisplayResolutionHorizontal.fillna(value=df.Census_InternalPrimaryDisplayResolutionHorizontal.mode()[0],inplace=True)"
   ]
  },
  {
   "cell_type": "code",
   "execution_count": 19,
   "id": "b713d8ef",
   "metadata": {},
   "outputs": [],
   "source": [
    "df.Census_InternalPrimaryDisplayResolutionVertical .fillna(value=df.Census_InternalPrimaryDisplayResolutionVertical .mode()[0],inplace=True)"
   ]
  },
  {
   "cell_type": "code",
   "execution_count": 20,
   "id": "ef530730",
   "metadata": {},
   "outputs": [],
   "source": [
    "df.Wdft_IsGamer.fillna(value=df.Wdft_IsGamer.mode()[0],inplace=True)"
   ]
  },
  {
   "cell_type": "code",
   "execution_count": 21,
   "id": "37ddc5dc",
   "metadata": {},
   "outputs": [],
   "source": [
    "df.Wdft_RegionIdentifier.fillna(value=df.Wdft_RegionIdentifier.mode()[0],inplace=True)"
   ]
  },
  {
   "cell_type": "code",
   "execution_count": 22,
   "id": "176b0fca",
   "metadata": {},
   "outputs": [],
   "source": [
    "df.Census_OSInstallLanguageIdentifier .fillna(value=df.Census_OSInstallLanguageIdentifier .mode()[0],inplace=True)"
   ]
  },
  {
   "cell_type": "code",
   "execution_count": 23,
   "id": "8f729698",
   "metadata": {},
   "outputs": [
    {
     "data": {
      "text/plain": [
       "IsBeta                                               0\n",
       "RtpStateBitfield                                     0\n",
       "IsSxsPassiveMode                                     0\n",
       "DefaultBrowsersIdentifier                            0\n",
       "AVProductStatesIdentifier                            0\n",
       "AVProductsInstalled                                  0\n",
       "HasTpm                                               0\n",
       "CountryIdentifier                                    0\n",
       "CityIdentifier                                       0\n",
       "OrganizationIdentifier                               0\n",
       "GeoNameIdentifier                                    0\n",
       "LocaleEnglishNameIdentifier                          0\n",
       "OsBuild                                              0\n",
       "OsSuite                                              0\n",
       "IsProtected                                          0\n",
       "SMode                                                0\n",
       "Firewall                                             0\n",
       "Census_InternalPrimaryDiagonalDisplaySizeInInches    0\n",
       "Census_InternalPrimaryDisplayResolutionHorizontal    0\n",
       "Census_InternalPrimaryDisplayResolutionVertical      0\n",
       "Census_OSBuildNumber                                 0\n",
       "Census_OSBuildRevision                               0\n",
       "Census_OSInstallLanguageIdentifier                   0\n",
       "Wdft_IsGamer                                         0\n",
       "Wdft_RegionIdentifier                                0\n",
       "HasDetections                                        0\n",
       "dtype: int64"
      ]
     },
     "execution_count": 23,
     "metadata": {},
     "output_type": "execute_result"
    }
   ],
   "source": [
    "df.isnull().sum()"
   ]
  },
  {
   "cell_type": "code",
   "execution_count": 24,
   "id": "fe213b01",
   "metadata": {},
   "outputs": [
    {
     "name": "stdout",
     "output_type": "stream",
     "text": [
      "<class 'pandas.core.frame.DataFrame'>\n",
      "RangeIndex: 702545 entries, 0 to 702544\n",
      "Data columns (total 26 columns):\n",
      " #   Column                                             Non-Null Count   Dtype  \n",
      "---  ------                                             --------------   -----  \n",
      " 0   IsBeta                                             702545 non-null  int64  \n",
      " 1   RtpStateBitfield                                   702545 non-null  int64  \n",
      " 2   IsSxsPassiveMode                                   702545 non-null  int64  \n",
      " 3   DefaultBrowsersIdentifier                          702545 non-null  int64  \n",
      " 4   AVProductStatesIdentifier                          702545 non-null  int64  \n",
      " 5   AVProductsInstalled                                702545 non-null  int64  \n",
      " 6   HasTpm                                             702545 non-null  int64  \n",
      " 7   CountryIdentifier                                  702545 non-null  int64  \n",
      " 8   CityIdentifier                                     702545 non-null  int64  \n",
      " 9   OrganizationIdentifier                             702545 non-null  int64  \n",
      " 10  GeoNameIdentifier                                  702545 non-null  int64  \n",
      " 11  LocaleEnglishNameIdentifier                        702545 non-null  int64  \n",
      " 12  OsBuild                                            702545 non-null  int64  \n",
      " 13  OsSuite                                            702545 non-null  int64  \n",
      " 14  IsProtected                                        702545 non-null  int64  \n",
      " 15  SMode                                              702545 non-null  int64  \n",
      " 16  Firewall                                           702545 non-null  int64  \n",
      " 17  Census_InternalPrimaryDiagonalDisplaySizeInInches  702545 non-null  int64  \n",
      " 18  Census_InternalPrimaryDisplayResolutionHorizontal  702545 non-null  int64  \n",
      " 19  Census_InternalPrimaryDisplayResolutionVertical    702545 non-null  int64  \n",
      " 20  Census_OSBuildNumber                               702545 non-null  int64  \n",
      " 21  Census_OSBuildRevision                             702545 non-null  int64  \n",
      " 22  Census_OSInstallLanguageIdentifier                 702545 non-null  int64  \n",
      " 23  Wdft_IsGamer                                       702545 non-null  int64  \n",
      " 24  Wdft_RegionIdentifier                              702545 non-null  float64\n",
      " 25  HasDetections                                      702545 non-null  int64  \n",
      "dtypes: float64(1), int64(25)\n",
      "memory usage: 139.4 MB\n"
     ]
    }
   ],
   "source": [
    "df.info()"
   ]
  },
  {
   "cell_type": "code",
   "execution_count": 25,
   "id": "10bb7df9",
   "metadata": {},
   "outputs": [
    {
     "data": {
      "text/plain": [
       "Index(['IsBeta', 'RtpStateBitfield', 'IsSxsPassiveMode',\n",
       "       'DefaultBrowsersIdentifier', 'AVProductStatesIdentifier',\n",
       "       'AVProductsInstalled', 'HasTpm', 'CountryIdentifier', 'CityIdentifier',\n",
       "       'OrganizationIdentifier', 'GeoNameIdentifier',\n",
       "       'LocaleEnglishNameIdentifier', 'OsBuild', 'OsSuite', 'IsProtected',\n",
       "       'SMode', 'Firewall',\n",
       "       'Census_InternalPrimaryDiagonalDisplaySizeInInches',\n",
       "       'Census_InternalPrimaryDisplayResolutionHorizontal',\n",
       "       'Census_InternalPrimaryDisplayResolutionVertical',\n",
       "       'Census_OSBuildNumber', 'Census_OSBuildRevision',\n",
       "       'Census_OSInstallLanguageIdentifier', 'Wdft_IsGamer',\n",
       "       'Wdft_RegionIdentifier', 'HasDetections '],\n",
       "      dtype='object')"
      ]
     },
     "execution_count": 25,
     "metadata": {},
     "output_type": "execute_result"
    }
   ],
   "source": [
    "df.columns"
   ]
  },
  {
   "cell_type": "code",
   "execution_count": 26,
   "id": "e72180dd",
   "metadata": {},
   "outputs": [
    {
     "data": {
      "text/plain": [
       "(702545, 26)"
      ]
     },
     "execution_count": 26,
     "metadata": {},
     "output_type": "execute_result"
    }
   ],
   "source": [
    "df.shape"
   ]
  },
  {
   "cell_type": "code",
   "execution_count": 27,
   "id": "3da1d83d",
   "metadata": {},
   "outputs": [],
   "source": [
    "x = df.iloc[:,:-1]\n",
    "y = df.iloc[:,-1]"
   ]
  },
  {
   "cell_type": "code",
   "execution_count": 28,
   "id": "b0bf74a2",
   "metadata": {},
   "outputs": [],
   "source": [
    "X_train,X_test,y_train,y_test=train_test_split(x,y,test_size=0.3)"
   ]
  },
  {
   "cell_type": "markdown",
   "id": "d4c3becf",
   "metadata": {},
   "source": [
    "### **Adaboost**"
   ]
  },
  {
   "cell_type": "code",
   "execution_count": 29,
   "id": "daac9208",
   "metadata": {},
   "outputs": [
    {
     "data": {
      "text/html": [
       "<style>#sk-container-id-1 {color: black;background-color: white;}#sk-container-id-1 pre{padding: 0;}#sk-container-id-1 div.sk-toggleable {background-color: white;}#sk-container-id-1 label.sk-toggleable__label {cursor: pointer;display: block;width: 100%;margin-bottom: 0;padding: 0.3em;box-sizing: border-box;text-align: center;}#sk-container-id-1 label.sk-toggleable__label-arrow:before {content: \"▸\";float: left;margin-right: 0.25em;color: #696969;}#sk-container-id-1 label.sk-toggleable__label-arrow:hover:before {color: black;}#sk-container-id-1 div.sk-estimator:hover label.sk-toggleable__label-arrow:before {color: black;}#sk-container-id-1 div.sk-toggleable__content {max-height: 0;max-width: 0;overflow: hidden;text-align: left;background-color: #f0f8ff;}#sk-container-id-1 div.sk-toggleable__content pre {margin: 0.2em;color: black;border-radius: 0.25em;background-color: #f0f8ff;}#sk-container-id-1 input.sk-toggleable__control:checked~div.sk-toggleable__content {max-height: 200px;max-width: 100%;overflow: auto;}#sk-container-id-1 input.sk-toggleable__control:checked~label.sk-toggleable__label-arrow:before {content: \"▾\";}#sk-container-id-1 div.sk-estimator input.sk-toggleable__control:checked~label.sk-toggleable__label {background-color: #d4ebff;}#sk-container-id-1 div.sk-label input.sk-toggleable__control:checked~label.sk-toggleable__label {background-color: #d4ebff;}#sk-container-id-1 input.sk-hidden--visually {border: 0;clip: rect(1px 1px 1px 1px);clip: rect(1px, 1px, 1px, 1px);height: 1px;margin: -1px;overflow: hidden;padding: 0;position: absolute;width: 1px;}#sk-container-id-1 div.sk-estimator {font-family: monospace;background-color: #f0f8ff;border: 1px dotted black;border-radius: 0.25em;box-sizing: border-box;margin-bottom: 0.5em;}#sk-container-id-1 div.sk-estimator:hover {background-color: #d4ebff;}#sk-container-id-1 div.sk-parallel-item::after {content: \"\";width: 100%;border-bottom: 1px solid gray;flex-grow: 1;}#sk-container-id-1 div.sk-label:hover label.sk-toggleable__label {background-color: #d4ebff;}#sk-container-id-1 div.sk-serial::before {content: \"\";position: absolute;border-left: 1px solid gray;box-sizing: border-box;top: 0;bottom: 0;left: 50%;z-index: 0;}#sk-container-id-1 div.sk-serial {display: flex;flex-direction: column;align-items: center;background-color: white;padding-right: 0.2em;padding-left: 0.2em;position: relative;}#sk-container-id-1 div.sk-item {position: relative;z-index: 1;}#sk-container-id-1 div.sk-parallel {display: flex;align-items: stretch;justify-content: center;background-color: white;position: relative;}#sk-container-id-1 div.sk-item::before, #sk-container-id-1 div.sk-parallel-item::before {content: \"\";position: absolute;border-left: 1px solid gray;box-sizing: border-box;top: 0;bottom: 0;left: 50%;z-index: -1;}#sk-container-id-1 div.sk-parallel-item {display: flex;flex-direction: column;z-index: 1;position: relative;background-color: white;}#sk-container-id-1 div.sk-parallel-item:first-child::after {align-self: flex-end;width: 50%;}#sk-container-id-1 div.sk-parallel-item:last-child::after {align-self: flex-start;width: 50%;}#sk-container-id-1 div.sk-parallel-item:only-child::after {width: 0;}#sk-container-id-1 div.sk-dashed-wrapped {border: 1px dashed gray;margin: 0 0.4em 0.5em 0.4em;box-sizing: border-box;padding-bottom: 0.4em;background-color: white;}#sk-container-id-1 div.sk-label label {font-family: monospace;font-weight: bold;display: inline-block;line-height: 1.2em;}#sk-container-id-1 div.sk-label-container {text-align: center;}#sk-container-id-1 div.sk-container {/* jupyter's `normalize.less` sets `[hidden] { display: none; }` but bootstrap.min.css set `[hidden] { display: none !important; }` so we also need the `!important` here to be able to override the default hidden behavior on the sphinx rendered scikit-learn.org. See: https://github.com/scikit-learn/scikit-learn/issues/21755 */display: inline-block !important;position: relative;}#sk-container-id-1 div.sk-text-repr-fallback {display: none;}</style><div id=\"sk-container-id-1\" class=\"sk-top-container\"><div class=\"sk-text-repr-fallback\"><pre>AdaBoostClassifier()</pre><b>In a Jupyter environment, please rerun this cell to show the HTML representation or trust the notebook. <br />On GitHub, the HTML representation is unable to render, please try loading this page with nbviewer.org.</b></div><div class=\"sk-container\" hidden><div class=\"sk-item\"><div class=\"sk-estimator sk-toggleable\"><input class=\"sk-toggleable__control sk-hidden--visually\" id=\"sk-estimator-id-1\" type=\"checkbox\" checked><label for=\"sk-estimator-id-1\" class=\"sk-toggleable__label sk-toggleable__label-arrow\">AdaBoostClassifier</label><div class=\"sk-toggleable__content\"><pre>AdaBoostClassifier()</pre></div></div></div></div></div>"
      ],
      "text/plain": [
       "AdaBoostClassifier()"
      ]
     },
     "execution_count": 29,
     "metadata": {},
     "output_type": "execute_result"
    }
   ],
   "source": [
    "from sklearn.ensemble import AdaBoostClassifier\n",
    "adb = AdaBoostClassifier()\n",
    "adb.fit(X_train,y_train)"
   ]
  },
  {
   "cell_type": "code",
   "execution_count": 30,
   "id": "f50d0736",
   "metadata": {},
   "outputs": [
    {
     "data": {
      "text/plain": [
       "1.0"
      ]
     },
     "execution_count": 30,
     "metadata": {},
     "output_type": "execute_result"
    }
   ],
   "source": [
    "y_pred = adb.predict(X_train)\n",
    "acc_adb1 = accuracy_score(y_train,y_pred)\n",
    "acc_adb1"
   ]
  },
  {
   "cell_type": "code",
   "execution_count": 31,
   "id": "fb08d6bf",
   "metadata": {},
   "outputs": [
    {
     "data": {
      "text/plain": [
       "0.999966787496916"
      ]
     },
     "execution_count": 31,
     "metadata": {},
     "output_type": "execute_result"
    }
   ],
   "source": [
    "y_pred = adb.predict(X_test)\n",
    "acc_adb2 = accuracy_score(y_test,y_pred)\n",
    "acc_adb2"
   ]
  },
  {
   "cell_type": "markdown",
   "id": "3e3f5fc4",
   "metadata": {},
   "source": [
    "### **Stacking Classifier**"
   ]
  },
  {
   "cell_type": "code",
   "execution_count": 33,
   "id": "06ab23fb",
   "metadata": {},
   "outputs": [
    {
     "ename": "TypeError",
     "evalue": "StackingClassifier.__init__() got an unexpected keyword argument 'base_classifiers'",
     "output_type": "error",
     "traceback": [
      "\u001b[1;31m---------------------------------------------------------------------------\u001b[0m",
      "\u001b[1;31mTypeError\u001b[0m                                 Traceback (most recent call last)",
      "Cell \u001b[1;32mIn[33], line 15\u001b[0m\n\u001b[0;32m     12\u001b[0m meta_classifier \u001b[38;5;241m=\u001b[39m LogisticRegression()\n\u001b[0;32m     14\u001b[0m \u001b[38;5;66;03m# Create stacking classifier\u001b[39;00m\n\u001b[1;32m---> 15\u001b[0m stc \u001b[38;5;241m=\u001b[39m \u001b[43mStackingClassifier\u001b[49m\u001b[43m(\u001b[49m\u001b[43mbase_classifiers\u001b[49m\u001b[38;5;241;43m=\u001b[39;49m\u001b[43mbase_classifiers\u001b[49m\u001b[43m,\u001b[49m\u001b[43m \u001b[49m\u001b[43mmeta_classifier\u001b[49m\u001b[38;5;241;43m=\u001b[39;49m\u001b[43mmeta_classifier\u001b[49m\u001b[43m)\u001b[49m\n\u001b[0;32m     17\u001b[0m \u001b[38;5;66;03m# Train stacking classifier\u001b[39;00m\n\u001b[0;32m     18\u001b[0m stc\u001b[38;5;241m.\u001b[39mfit(X_train, y_train)\n",
      "\u001b[1;31mTypeError\u001b[0m: StackingClassifier.__init__() got an unexpected keyword argument 'base_classifiers'"
     ]
    }
   ],
   "source": [
    "from sklearn.ensemble import RandomForestClassifier, GradientBoostingClassifier, StackingClassifier\n",
    "from sklearn.linear_model import LogisticRegression\n",
    "from sklearn.base import BaseEstimator, ClassifierMixin, clone\n",
    "\n",
    "# Define base classifiers\n",
    "base_classifiers = [\n",
    "    RandomForestClassifier(n_estimators=100, random_state=42),\n",
    "    GradientBoostingClassifier(n_estimators=100, random_state=42)\n",
    "]\n",
    "\n",
    "# Define meta classifier\n",
    "meta_classifier = LogisticRegression()\n",
    "\n",
    "# Create stacking classifier\n",
    "stc = StackingClassifier(base_classifiers=base_classifiers, meta_classifier=meta_classifier)\n",
    "\n",
    "# Train stacking classifier\n",
    "stc.fit(X_train, y_train)"
   ]
  },
  {
   "cell_type": "code",
   "execution_count": null,
   "id": "fc0ec7b7",
   "metadata": {},
   "outputs": [],
   "source": []
  },
  {
   "cell_type": "code",
   "execution_count": null,
   "id": "587d37b7",
   "metadata": {},
   "outputs": [],
   "source": []
  },
  {
   "cell_type": "code",
   "execution_count": null,
   "id": "80a89001",
   "metadata": {},
   "outputs": [],
   "source": []
  },
  {
   "cell_type": "code",
   "execution_count": null,
   "id": "77708b50",
   "metadata": {},
   "outputs": [],
   "source": []
  },
  {
   "cell_type": "code",
   "execution_count": null,
   "id": "87260686",
   "metadata": {},
   "outputs": [],
   "source": []
  }
 ],
 "metadata": {
  "kernelspec": {
   "display_name": "Python 3",
   "language": "python",
   "name": "python3"
  },
  "language_info": {
   "codemirror_mode": {
    "name": "ipython",
    "version": 3
   },
   "file_extension": ".py",
   "mimetype": "text/x-python",
   "name": "python",
   "nbconvert_exporter": "python",
   "pygments_lexer": "ipython3",
   "version": "3.10.0"
  }
 },
 "nbformat": 4,
 "nbformat_minor": 5
}
